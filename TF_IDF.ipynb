{
  "nbformat": 4,
  "nbformat_minor": 0,
  "metadata": {
    "colab": {
      "provenance": []
    },
    "kernelspec": {
      "name": "python3",
      "display_name": "Python 3"
    },
    "language_info": {
      "name": "python"
    }
  },
  "cells": [
    {
      "cell_type": "code",
      "execution_count": 41,
      "metadata": {
        "id": "LnM3OwVJs492"
      },
      "outputs": [],
      "source": [
        "import pandas as pd\n",
        "training_data = pd.read_csv('/content/CW2-training-dataset.csv')\n",
        "validation_data = pd.read_csv('/content/CW2-validation-dataset.csv')\n"
      ]
    },
    {
      "cell_type": "code",
      "source": [
        "import re\n",
        "import string\n",
        "import nltk\n",
        "from nltk.corpus import stopwords\n",
        "from nltk.tokenize import word_tokenize\n",
        "from nltk.stem import PorterStemmer\n",
        "from sklearn.utils.class_weight import compute_class_weight\n",
        "import numpy as np\n",
        "import matplotlib.pyplot as plt\n",
        "import seaborn as sns\n",
        "from tensorflow.keras.preprocessing.text import Tokenizer\n",
        "from tensorflow.keras.preprocessing.sequence import pad_sequences"
      ],
      "metadata": {
        "id": "TVsjP2BNt0fs"
      },
      "execution_count": 42,
      "outputs": []
    },
    {
      "cell_type": "code",
      "source": [
        "genre_counts = training_data[['comedy', 'cult', 'flashback', 'historical',\n",
        "                     'murder', 'revenge', 'romantic', 'scifi', 'violence']].sum()\n",
        "\n",
        "genre_counts_dict = genre_counts.to_dict()\n",
        "\n",
        "print(\"Number of movies in each genre:\")\n",
        "for genre, count in genre_counts_dict.items():\n",
        "    print(f\"{genre}: {int(count)}\")"
      ],
      "metadata": {
        "colab": {
          "base_uri": "https://localhost:8080/"
        },
        "id": "G8TvjMoLj7kF",
        "outputId": "2cddf458-c20b-4492-9019-8c3156abc943"
      },
      "execution_count": 43,
      "outputs": [
        {
          "output_type": "stream",
          "name": "stdout",
          "text": [
            "Number of movies in each genre:\n",
            "comedy: 1262\n",
            "cult: 1801\n",
            "flashback: 1994\n",
            "historical: 186\n",
            "murder: 4019\n",
            "revenge: 1657\n",
            "romantic: 2006\n",
            "scifi: 204\n",
            "violence: 3064\n"
          ]
        }
      ]
    },
    {
      "cell_type": "code",
      "source": [
        "label_columns = ['comedy', 'cult', 'flashback', 'historical', 'murder', 'revenge', 'romantic', 'scifi', 'violence']\n",
        "\n",
        "# # Calculate class weights for each label\n",
        "# class_weights = {}\n",
        "# for i, label in enumerate(label_columns):\n",
        "#     class_weights[i] = compute_class_weight('balanced', classes=np.array([0, 1]), y=training_data[label])\n",
        "\n",
        "# print(\"Class Weights:\", class_weights)"
      ],
      "metadata": {
        "id": "Ri3TnJ4JlO4v"
      },
      "execution_count": 44,
      "outputs": []
    },
    {
      "cell_type": "code",
      "source": [
        "nltk.download('stopwords')\n",
        "nltk.download('punkt')\n",
        "nltk.download('punkt_tab')\n",
        "\n",
        "def preprocess_text(text):\n",
        "    # Convert to lowercase\n",
        "    text = text.lower()\n",
        "\n",
        "    # Remove numbers\n",
        "    text = re.sub(r'\\d+', '', text)\n",
        "\n",
        "    # Remove punctuation\n",
        "    text = text.translate(str.maketrans('', '', string.punctuation))\n",
        "\n",
        "    # Tokenization\n",
        "    tokens = word_tokenize(text)\n",
        "\n",
        "    # Remove stopwords - converts the stopwords into a set which is faster in lookups\n",
        "    stop_words = set(stopwords.words('english'))\n",
        "    tokens = [word for word in tokens if word not in stop_words]\n",
        "\n",
        "    # # Stemming\n",
        "    stemmer = PorterStemmer()\n",
        "    tokens = [stemmer.stem(word) for word in tokens]\n",
        "\n",
        "    # Rejoin tokens into a single string to return text (string)\n",
        "    processed_text = ' '.join(tokens)\n",
        "\n",
        "    return processed_text\n"
      ],
      "metadata": {
        "colab": {
          "base_uri": "https://localhost:8080/"
        },
        "id": "GAv2wZss0Jew",
        "outputId": "05fd79a5-4439-40bf-c82f-647e58ca4134"
      },
      "execution_count": 45,
      "outputs": [
        {
          "output_type": "stream",
          "name": "stderr",
          "text": [
            "[nltk_data] Downloading package stopwords to /root/nltk_data...\n",
            "[nltk_data]   Package stopwords is already up-to-date!\n",
            "[nltk_data] Downloading package punkt to /root/nltk_data...\n",
            "[nltk_data]   Package punkt is already up-to-date!\n",
            "[nltk_data] Downloading package punkt_tab to /root/nltk_data...\n",
            "[nltk_data]   Package punkt_tab is already up-to-date!\n"
          ]
        }
      ]
    },
    {
      "cell_type": "code",
      "source": [
        "# Extract the target columns (genre labels)\n",
        "label_columns = ['comedy', 'cult', 'flashback', 'historical', 'murder', 'revenge', 'romantic', 'scifi', 'violence']\n",
        "y_train = training_data[label_columns].values\n",
        "y_validate = validation_data[label_columns].values"
      ],
      "metadata": {
        "id": "tMWz3Q3fu1F6"
      },
      "execution_count": 46,
      "outputs": []
    },
    {
      "cell_type": "code",
      "source": [
        "training_data['context']= (training_data['title'] + \". \" +training_data['plot_synopsis']).apply(preprocess_text)\n",
        "validation_data['context']= (validation_data['title'] + \". \" + validation_data['plot_synopsis']).apply(preprocess_text)"
      ],
      "metadata": {
        "id": "gAGpXFGf0f3H"
      },
      "execution_count": 47,
      "outputs": []
    },
    {
      "cell_type": "code",
      "source": [
        "# Calculate the number of words in each context\n",
        "training_data['num_words'] = training_data['context'].astype(str).apply(lambda x: len(x.split()))\n",
        "\n",
        "# Calculate the average number of words\n",
        "average_length = training_data['num_words'].mean()\n",
        "\n",
        "# Display the average length\n",
        "print(f\"Average number of words: {average_length}\")"
      ],
      "metadata": {
        "id": "Srt_-LIQ3mzs",
        "colab": {
          "base_uri": "https://localhost:8080/"
        },
        "outputId": "9727ab4e-bd5e-4887-fbf2-a59510cd2cbb"
      },
      "execution_count": 48,
      "outputs": [
        {
          "output_type": "stream",
          "name": "stdout",
          "text": [
            "Average number of words: 464.2385854426547\n"
          ]
        }
      ]
    },
    {
      "cell_type": "code",
      "source": [
        "#plot histogram to showcase the length frequency of cleaned plot_synopsis of each movie\n",
        "plt.figure(figsize=(10, 6))\n",
        "plt.hist(training_data['num_words'], bins=30, edgecolor='black', alpha=0.7)\n",
        "plt.title('Distribution of Text Lengths', fontsize=16)\n",
        "plt.xlabel('Length of Plot Synopsis', fontsize=14)\n",
        "plt.ylabel('Frequency', fontsize=14)\n",
        "plt.grid(axis='y', linestyle='--', alpha=0.7)\n",
        "plt.show()"
      ],
      "metadata": {
        "colab": {
          "base_uri": "https://localhost:8080/",
          "height": 571
        },
        "id": "XV2YaJYQA7sP",
        "outputId": "7dad9b06-59d8-4ea1-d859-a881f8053165"
      },
      "execution_count": 49,
      "outputs": [
        {
          "output_type": "display_data",
          "data": {
            "text/plain": [
              "<Figure size 1000x600 with 1 Axes>"
            ],
            "image/png": "[encoded data removed]"
          },
          "metadata": {}
        }
      ]
    },
    {
      "cell_type": "code",
      "source": [
        "# Initialize tokenizer and parameters for padding/truncating\n",
        "num_words = 7000  # Vocabulary size of words to their freq\n",
        "max_len = 400     # Maximum sequence length\n",
        "tokenizer = Tokenizer(num_words=num_words,filters='!\"#$%&()*+,-./:;<=>?@[\\]^_`{|}~', lower=True)\n",
        "def padding_truncating(text):\n",
        "        ''' Fit tokenizer on the tokenized text\n",
        "            it creates a vocabulary index based on word frequency (dict word:int)\n",
        "        '''\n",
        "        tokenizer.fit_on_texts(text)\n",
        "        '''converts each word to its corresponding number'''\n",
        "        sequence = tokenizer.texts_to_sequences(text)\n",
        "\n",
        "        # Apply padding/truncating\n",
        "        padded_sequence = pad_sequences(sequence, maxlen=max_len, padding='post', truncating='post')\n",
        "        return padded_sequence,tokenizer\n"
      ],
      "metadata": {
        "id": "gk-5PXuKTIo7"
      },
      "execution_count": 50,
      "outputs": []
    },
    {
      "cell_type": "code",
      "source": [
        "# Apply padding/truncating on training and test sets\n",
        "X_train_raw = training_data['context']\n",
        "X_validate_raw = validation_data['context']\n",
        "X_train,tokenizer = padding_truncating( X_train_raw)\n",
        "X_validate = tokenizer.texts_to_sequences(X_validate_raw)  # change words to numbers\n",
        "X_validate = pad_sequences(X_validate, maxlen=max_len, padding='post', truncating='post')\n",
        "\n",
        "# Check shapes of processed data\n",
        "print(f\"Processed Training data shape: {X_train.shape}\")"
      ],
      "metadata": {
        "colab": {
          "base_uri": "https://localhost:8080/"
        },
        "id": "23hvDEjvDKXj",
        "outputId": "5777237e-a92a-4e69-9c8c-4486b9d8a0ba"
      },
      "execution_count": 51,
      "outputs": [
        {
          "output_type": "stream",
          "name": "stdout",
          "text": [
            "Processed Training data shape: (8257, 400)\n"
          ]
        }
      ]
    },
    {
      "cell_type": "code",
      "source": [
        "print(X_train.shape) #training data - has the plot of the movie\n",
        "print(y_train.shape) #target data - has the categories the movie belong to"
      ],
      "metadata": {
        "colab": {
          "base_uri": "https://localhost:8080/"
        },
        "id": "r3iVeBctCdMB",
        "outputId": "fe647538-0430-4553-9a5a-4085562d4784"
      },
      "execution_count": 52,
      "outputs": [
        {
          "output_type": "stream",
          "name": "stdout",
          "text": [
            "(8257, 400)\n",
            "(8257, 9)\n"
          ]
        }
      ]
    },
    {
      "cell_type": "markdown",
      "source": [
        "# **Build The Model**"
      ],
      "metadata": {
        "id": "hTmca14L2IVR"
      }
    },
    {
      "cell_type": "code",
      "source": [
        "from tensorflow.keras.models import Sequential\n",
        "from tensorflow.keras.layers import Embedding, LSTM, Bidirectional, Dense, Dropout, SpatialDropout1D\n",
        "from tensorflow.keras.optimizers import Adam\n",
        "from tensorflow.keras.callbacks import Callback, EarlyStopping\n",
        "from tensorflow.keras.losses import BinaryCrossentropy\n"
      ],
      "metadata": {
        "id": "NhsOExne2Nob"
      },
      "execution_count": 53,
      "outputs": []
    },
    {
      "cell_type": "code",
      "source": [
        "# Define the model with dropout\n",
        "model = Sequential([\n",
        "    Embedding(input_dim=num_words, output_dim=100, input_length=max_len),  # Embedding layer\n",
        "    # SpatialDropout1D(0.2),  # Dropout applied to embedding layer\n",
        "    # Bidirectional(LSTM(100, return_sequences=True, dropout=0.2, recurrent_dropout=0.2)),  # LSTM with dropout\n",
        "    Bidirectional(LSTM(100, dropout=0.2, recurrent_dropout=0.2)),  # Second LSTM layer\n",
        "    # Dense(64, activation='relu'),  # Hidden dense layer\n",
        "    # Dropout(0.5),  # Dropout for hidden layer\n",
        "    Dense(len(label_columns), activation='sigmoid')  # Output layer for multi-label classification\n",
        "])\n",
        "\n",
        "# Compile the model\n",
        "model.compile(optimizer=Adam(learning_rate=0.0005),\n",
        "              loss='binary_crossentropy',\n",
        "              metrics=['accuracy'])\n",
        "\n",
        "# Check the model summary\n",
        "print(model.summary())"
      ],
      "metadata": {
        "colab": {
          "base_uri": "https://localhost:8080/",
          "height": 242
        },
        "id": "EA-lmul62QP5",
        "outputId": "c28fcb9a-e75f-4c4c-f3de-4a2775a17ade"
      },
      "execution_count": 63,
      "outputs": [
        {
          "output_type": "display_data",
          "data": {
            "text/plain": [
              "\u001b[1mModel: \"sequential_5\"\u001b[0m\n"
            ],
            "text/html": [
              "<pre style=\"white-space:pre;overflow-x:auto;line-height:normal;font-family:Menlo,'DejaVu Sans Mono',consolas,'Courier New',monospace\"><span style=\"font-weight: bold\">Model: \"sequential_5\"</span>\n",
              "</pre>\n"
            ]
          },
          "metadata": {}
        },
        {
          "output_type": "display_data",
          "data": {
            "text/plain": [
              "┏━━━━━━━━━━━━━━━━━━━━━━━━━━━━━━━━━━━━━━┳━━━━━━━━━━━━━━━━━━━━━━━━━━━━━┳━━━━━━━━━━━━━━━━━┓\n",
              "┃\u001b[1m \u001b[0m\u001b[1mLayer (type)                        \u001b[0m\u001b[1m \u001b[0m┃\u001b[1m \u001b[0m\u001b[1mOutput Shape               \u001b[0m\u001b[1m \u001b[0m┃\u001b[1m \u001b[0m\u001b[1m        Param #\u001b[0m\u001b[1m \u001b[0m┃\n",
              "┡━━━━━━━━━━━━━━━━━━━━━━━━━━━━━━━━━━━━━━╇━━━━━━━━━━━━━━━━━━━━━━━━━━━━━╇━━━━━━━━━━━━━━━━━┩\n",
              "│ embedding_6 (\u001b[38;5;33mEmbedding\u001b[0m)              │ ?                           │     \u001b[38;5;34m0\u001b[0m (unbuilt) │\n",
              "├──────────────────────────────────────┼─────────────────────────────┼─────────────────┤\n",
              "│ bidirectional_8 (\u001b[38;5;33mBidirectional\u001b[0m)      │ ?                           │     \u001b[38;5;34m0\u001b[0m (unbuilt) │\n",
              "├──────────────────────────────────────┼─────────────────────────────┼─────────────────┤\n",
              "│ dense_7 (\u001b[38;5;33mDense\u001b[0m)                      │ ?                           │     \u001b[38;5;34m0\u001b[0m (unbuilt) │\n",
              "└──────────────────────────────────────┴─────────────────────────────┴─────────────────┘\n"
            ],
            "text/html": [
              "<pre style=\"white-space:pre;overflow-x:auto;line-height:normal;font-family:Menlo,'DejaVu Sans Mono',consolas,'Courier New',monospace\">┏━━━━━━━━━━━━━━━━━━━━━━━━━━━━━━━━━━━━━━┳━━━━━━━━━━━━━━━━━━━━━━━━━━━━━┳━━━━━━━━━━━━━━━━━┓\n",
              "┃<span style=\"font-weight: bold\"> Layer (type)                         </span>┃<span style=\"font-weight: bold\"> Output Shape                </span>┃<span style=\"font-weight: bold\">         Param # </span>┃\n",
              "┡━━━━━━━━━━━━━━━━━━━━━━━━━━━━━━━━━━━━━━╇━━━━━━━━━━━━━━━━━━━━━━━━━━━━━╇━━━━━━━━━━━━━━━━━┩\n",
              "│ embedding_6 (<span style=\"color: #0087ff; text-decoration-color: #0087ff\">Embedding</span>)              │ ?                           │     <span style=\"color: #00af00; text-decoration-color: #00af00\">0</span> (unbuilt) │\n",
              "├──────────────────────────────────────┼─────────────────────────────┼─────────────────┤\n",
              "│ bidirectional_8 (<span style=\"color: #0087ff; text-decoration-color: #0087ff\">Bidirectional</span>)      │ ?                           │     <span style=\"color: #00af00; text-decoration-color: #00af00\">0</span> (unbuilt) │\n",
              "├──────────────────────────────────────┼─────────────────────────────┼─────────────────┤\n",
              "│ dense_7 (<span style=\"color: #0087ff; text-decoration-color: #0087ff\">Dense</span>)                      │ ?                           │     <span style=\"color: #00af00; text-decoration-color: #00af00\">0</span> (unbuilt) │\n",
              "└──────────────────────────────────────┴─────────────────────────────┴─────────────────┘\n",
              "</pre>\n"
            ]
          },
          "metadata": {}
        },
        {
          "output_type": "display_data",
          "data": {
            "text/plain": [
              "\u001b[1m Total params: \u001b[0m\u001b[38;5;34m0\u001b[0m (0.00 B)\n"
            ],
            "text/html": [
              "<pre style=\"white-space:pre;overflow-x:auto;line-height:normal;font-family:Menlo,'DejaVu Sans Mono',consolas,'Courier New',monospace\"><span style=\"font-weight: bold\"> Total params: </span><span style=\"color: #00af00; text-decoration-color: #00af00\">0</span> (0.00 B)\n",
              "</pre>\n"
            ]
          },
          "metadata": {}
        },
        {
          "output_type": "display_data",
          "data": {
            "text/plain": [
              "\u001b[1m Trainable params: \u001b[0m\u001b[38;5;34m0\u001b[0m (0.00 B)\n"
            ],
            "text/html": [
              "<pre style=\"white-space:pre;overflow-x:auto;line-height:normal;font-family:Menlo,'DejaVu Sans Mono',consolas,'Courier New',monospace\"><span style=\"font-weight: bold\"> Trainable params: </span><span style=\"color: #00af00; text-decoration-color: #00af00\">0</span> (0.00 B)\n",
              "</pre>\n"
            ]
          },
          "metadata": {}
        },
        {
          "output_type": "display_data",
          "data": {
            "text/plain": [
              "\u001b[1m Non-trainable params: \u001b[0m\u001b[38;5;34m0\u001b[0m (0.00 B)\n"
            ],
            "text/html": [
              "<pre style=\"white-space:pre;overflow-x:auto;line-height:normal;font-family:Menlo,'DejaVu Sans Mono',consolas,'Courier New',monospace\"><span style=\"font-weight: bold\"> Non-trainable params: </span><span style=\"color: #00af00; text-decoration-color: #00af00\">0</span> (0.00 B)\n",
              "</pre>\n"
            ]
          },
          "metadata": {}
        },
        {
          "output_type": "stream",
          "name": "stdout",
          "text": [
            "None\n"
          ]
        }
      ]
    },
    {
      "cell_type": "code",
      "source": [
        "# my_callbacks  = [EarlyStopping(monitor='val_loss',\n",
        "                              # min_delta=0,\n",
        "                              # patience=2,\n",
        "                              # mode='auto')]"
      ],
      "metadata": {
        "id": "_knl7-HiMQgz"
      },
      "execution_count": 55,
      "outputs": []
    },
    {
      "cell_type": "code",
      "source": [
        "# Train the model\n",
        "history = model.fit(\n",
        "    X_train, y_train,          # here you pass the inputs and target labels\n",
        "    epochs=10,                 # Number of epochs\n",
        "    batch_size=256,             # Batch size\n",
        "    validation_data=(X_validate, y_validate)\n",
        "    # callbacks=my_callbacks\n",
        ")"
      ],
      "metadata": {
        "colab": {
          "base_uri": "https://localhost:8080/"
        },
        "id": "vbRHhEqF2bwC",
        "outputId": "8bf60cb9-6667-429d-86b8-660317bde5ec"
      },
      "execution_count": 65,
      "outputs": [
        {
          "output_type": "stream",
          "name": "stdout",
          "text": [
            "Epoch 1/10\n",
            "\u001b[1m33/33\u001b[0m \u001b[32m━━━━━━━━━━━━━━━━━━━━\u001b[0m\u001b[37m\u001b[0m \u001b[1m119s\u001b[0m 4s/step - accuracy: 0.3748 - loss: 0.3515 - val_accuracy: 0.2988 - val_loss: 0.4288\n",
            "Epoch 2/10\n",
            "\u001b[1m33/33\u001b[0m \u001b[32m━━━━━━━━━━━━━━━━━━━━\u001b[0m\u001b[37m\u001b[0m \u001b[1m141s\u001b[0m 4s/step - accuracy: 0.3965 - loss: 0.3412 - val_accuracy: 0.2955 - val_loss: 0.4331\n",
            "Epoch 3/10\n",
            "\u001b[1m33/33\u001b[0m \u001b[32m━━━━━━━━━━━━━━━━━━━━\u001b[0m\u001b[37m\u001b[0m \u001b[1m118s\u001b[0m 4s/step - accuracy: 0.4298 - loss: 0.3235 - val_accuracy: 0.3064 - val_loss: 0.4452\n",
            "Epoch 4/10\n",
            "\u001b[1m33/33\u001b[0m \u001b[32m━━━━━━━━━━━━━━━━━━━━\u001b[0m\u001b[37m\u001b[0m \u001b[1m144s\u001b[0m 4s/step - accuracy: 0.4418 - loss: 0.3106 - val_accuracy: 0.3005 - val_loss: 0.4560\n",
            "Epoch 5/10\n",
            "\u001b[1m33/33\u001b[0m \u001b[32m━━━━━━━━━━━━━━━━━━━━\u001b[0m\u001b[37m\u001b[0m \u001b[1m118s\u001b[0m 4s/step - accuracy: 0.4545 - loss: 0.3006 - val_accuracy: 0.2845 - val_loss: 0.4693\n",
            "Epoch 6/10\n",
            "\u001b[1m33/33\u001b[0m \u001b[32m━━━━━━━━━━━━━━━━━━━━\u001b[0m\u001b[37m\u001b[0m \u001b[1m141s\u001b[0m 4s/step - accuracy: 0.4721 - loss: 0.2885 - val_accuracy: 0.2955 - val_loss: 0.4696\n",
            "Epoch 7/10\n",
            "\u001b[1m33/33\u001b[0m \u001b[32m━━━━━━━━━━━━━━━━━━━━\u001b[0m\u001b[37m\u001b[0m \u001b[1m118s\u001b[0m 4s/step - accuracy: 0.5008 - loss: 0.2722 - val_accuracy: 0.2896 - val_loss: 0.4831\n",
            "Epoch 8/10\n",
            "\u001b[1m33/33\u001b[0m \u001b[32m━━━━━━━━━━━━━━━━━━━━\u001b[0m\u001b[37m\u001b[0m \u001b[1m142s\u001b[0m 4s/step - accuracy: 0.5160 - loss: 0.2660 - val_accuracy: 0.2854 - val_loss: 0.4909\n",
            "Epoch 9/10\n",
            "\u001b[1m33/33\u001b[0m \u001b[32m━━━━━━━━━━━━━━━━━━━━\u001b[0m\u001b[37m\u001b[0m \u001b[1m140s\u001b[0m 4s/step - accuracy: 0.5196 - loss: 0.2539 - val_accuracy: 0.2946 - val_loss: 0.5051\n",
            "Epoch 10/10\n",
            "\u001b[1m33/33\u001b[0m \u001b[32m━━━━━━━━━━━━━━━━━━━━\u001b[0m\u001b[37m\u001b[0m \u001b[1m148s\u001b[0m 4s/step - accuracy: 0.5203 - loss: 0.2492 - val_accuracy: 0.2929 - val_loss: 0.5195\n"
          ]
        }
      ]
    },
    {
      "cell_type": "code",
      "source": [
        "# Predict probabilities on the validation data\n",
        "predicted_probabilities = model.predict(X_validate)\n",
        "\n",
        "# Apply a threshold to convert probabilities to binary predictions\n",
        "threshold = 0.4\n",
        "binary_predictions = (predicted_probabilities > threshold).astype(int)\n",
        "\n",
        "# Create a DataFrame for the predictions\n",
        "output_df = pd.DataFrame(binary_predictions, columns=label_columns)\n",
        "\n",
        "# Add the ID column from validation_data\n",
        "output_df.insert(0, 'ID', validation_data['ID'])\n",
        "\n",
        "# Save the DataFrame to a CSV file\n",
        "output_df.to_csv('validation_output.csv', index=False)\n",
        "\n",
        "print(\"Predictions saved to 'validation_output.csv'\")"
      ],
      "metadata": {
        "colab": {
          "base_uri": "https://localhost:8080/"
        },
        "id": "58mrkanRnix-",
        "outputId": "face4f5b-1e5b-435f-f5d5-9f12b52de06a"
      },
      "execution_count": 66,
      "outputs": [
        {
          "output_type": "stream",
          "name": "stdout",
          "text": [
            "\u001b[1m38/38\u001b[0m \u001b[32m━━━━━━━━━━━━━━━━━━━━\u001b[0m\u001b[37m\u001b[0m \u001b[1m8s\u001b[0m 197ms/step\n",
            "Predictions saved to 'validation_output.csv'\n"
          ]
        }
      ]
    },
    {
      "cell_type": "code",
      "source": [
        "import pandas as pd\n",
        "\n",
        "test_data = pd.read_csv('/content/CW2-test-dataset.csv')\n",
        "\n",
        "# Assign column names manually\n",
        "test_data.columns = ['ID', 'Movie Title', 'Description']\n",
        "\n",
        "# Combine title and description for context processing\n",
        "test_data['context'] = test_data['Movie Title'] + \". \" + test_data['Description']\n",
        "\n",
        "# Preprocess the context column (using your existing preprocessing function)\n",
        "test_data['context'] = test_data['context'].apply(preprocess_text)\n",
        "\n",
        "# Tokenize and pad the sequences\n",
        "X_test_raw = test_data['context']\n",
        "X_test = tokenizer.texts_to_sequences(X_test_raw)  # Convert words to numbers\n",
        "X_test = pad_sequences(X_test, maxlen=max_len, padding='post', truncating='post')\n",
        "\n",
        "# Predict probabilities for each genre\n",
        "predicted_probabilities = model.predict(X_test)\n",
        "\n",
        "# Convert probabilities to binary predictions using the best thresholds\n",
        "binary_predictions = (predicted_probabilities > 0.4).astype(int)\n",
        "\n",
        "# Create a DataFrame for the predictions\n",
        "output_df = pd.DataFrame(binary_predictions, columns=label_columns)\n",
        "\n",
        "# Add the 'ID' column from the test dataset\n",
        "output_df.insert(0, 'ID', test_data['ID'])  # First column corresponds to the ID\n",
        "\n",
        "# Save the DataFrame to a CSV file with headers\n",
        "output_file = '10953347_task1_code.csv'\n",
        "output_df.to_csv(output_file, index=False, header=False)\n",
        "\n",
        "print(f\"Predictions saved to '{output_file}'\")"
      ],
      "metadata": {
        "colab": {
          "base_uri": "https://localhost:8080/"
        },
        "id": "NvohiT9zlB-h",
        "outputId": "a852e831-8501-45e3-d525-e436eaae404a"
      },
      "execution_count": 69,
      "outputs": [
        {
          "output_type": "stream",
          "name": "stdout",
          "text": [
            "\u001b[1m38/38\u001b[0m \u001b[32m━━━━━━━━━━━━━━━━━━━━\u001b[0m\u001b[37m\u001b[0m \u001b[1m6s\u001b[0m 149ms/step\n",
            "Predictions saved to '10953347_task1_code.csv'\n"
          ]
        }
      ]
    },
    {
      "cell_type": "code",
      "source": [],
      "metadata": {
        "id": "Yr1pJPcQojDw"
      },
      "execution_count": 59,
      "outputs": []
    }
  ]
}